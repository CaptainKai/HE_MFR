{
 "cells": [
  {
   "cell_type": "code",
   "execution_count": 1,
   "metadata": {},
   "outputs": [],
   "source": [
    "import torch\n",
    "import torch.tensor as tensor"
   ]
  },
  {
   "cell_type": "code",
   "execution_count": 2,
   "metadata": {},
   "outputs": [],
   "source": [
    "a = tensor([[1., 1., 1.],\n",
    "...             [2., 2., 2.],\n",
    "...             [3., 3., 3.],\n",
    "...             [4., 4., 4.]])\n",
    "b = tensor([[0., 0., 0.],\n",
    "...             [1., 1., 1.],\n",
    "...             [2., 2., 2.],\n",
    "...             [3., 3., 3.]])"
   ]
  },
  {
   "cell_type": "code",
   "execution_count": 4,
   "metadata": {},
   "outputs": [
    {
     "name": "stdout",
     "output_type": "stream",
     "text": [
      "torch.Size([4, 1, 3])\n",
      "tensor([[[ 0.,  0.,  0.],\n",
      "         [-1., -1., -1.],\n",
      "         [-2., -2., -2.],\n",
      "         [-3., -3., -3.]],\n",
      "\n",
      "        [[ 1.,  1.,  1.],\n",
      "         [ 0.,  0.,  0.],\n",
      "         [-1., -1., -1.],\n",
      "         [-2., -2., -2.]],\n",
      "\n",
      "        [[ 2.,  2.,  2.],\n",
      "         [ 1.,  1.,  1.],\n",
      "         [ 0.,  0.,  0.],\n",
      "         [-1., -1., -1.]],\n",
      "\n",
      "        [[ 3.,  3.,  3.],\n",
      "         [ 2.,  2.,  2.],\n",
      "         [ 1.,  1.,  1.],\n",
      "         [ 0.,  0.,  0.]]])\n",
      "torch.Size([4, 4, 3])\n",
      "tensor([[0., 3., 6., 9.],\n",
      "        [3., 0., 3., 6.],\n",
      "        [6., 3., 0., 3.],\n",
      "        [9., 6., 3., 0.]]) torch.Size([4, 4])\n",
      "tensor([[0., 3., 6., 9.],\n",
      "        [3., 0., 3., 6.],\n",
      "        [6., 3., 0., 3.],\n",
      "        [9., 6., 3., 0.]]) torch.Size([4, 4])\n"
     ]
    }
   ],
   "source": [
    "c=torch.norm(a[:, None]-a, dim=2, p=1) # None, 用来扩展维度，和torch.unsqueeze()效果类似\n",
    "d=torch.norm(b[:, None]-b, dim=2, p=1)\n",
    "print(a[:,None].size())\n",
    "print(a[:,None]-a)\n",
    "print((a[:,None]-a).size())\n",
    "print(c, c.size())\n",
    "print(d, d.size())"
   ]
  },
  {
   "cell_type": "code",
   "execution_count": 40,
   "metadata": {},
   "outputs": [
    {
     "name": "stdout",
     "output_type": "stream",
     "text": [
      "tensor([[1., 1., 1.],\n",
      "        [2., 2., 2.],\n",
      "        [3., 3., 3.],\n",
      "        [4., 4., 4.]]) torch.Size([4, 3])\n",
      "tensor([[[1., 1., 1.]],\n",
      "\n",
      "        [[2., 2., 2.]],\n",
      "\n",
      "        [[3., 3., 3.]],\n",
      "\n",
      "        [[4., 4., 4.]]]) torch.Size([4, 1, 3])\n",
      "tensor([[[ 0.,  0.,  0.],\n",
      "         [-1., -1., -1.],\n",
      "         [-2., -2., -2.],\n",
      "         [-3., -3., -3.]],\n",
      "\n",
      "        [[ 1.,  1.,  1.],\n",
      "         [ 0.,  0.,  0.],\n",
      "         [-1., -1., -1.],\n",
      "         [-2., -2., -2.]],\n",
      "\n",
      "        [[ 2.,  2.,  2.],\n",
      "         [ 1.,  1.,  1.],\n",
      "         [ 0.,  0.,  0.],\n",
      "         [-1., -1., -1.]],\n",
      "\n",
      "        [[ 3.,  3.,  3.],\n",
      "         [ 2.,  2.,  2.],\n",
      "         [ 1.,  1.,  1.],\n",
      "         [ 0.,  0.,  0.]]]) torch.Size([4, 4, 3])\n"
     ]
    }
   ],
   "source": [
    "print(a, a.size())\n",
    "print(a[:, None], a[:, None].size())\n",
    "print(a[:, None]-a, (a[:, None]-a).size())\n",
    "print()"
   ]
  },
  {
   "cell_type": "code",
   "execution_count": 6,
   "metadata": {},
   "outputs": [
    {
     "name": "stdout",
     "output_type": "stream",
     "text": [
      "tensor([[[1., 1., 1.],\n",
      "         [2., 2., 2.],\n",
      "         [3., 3., 3.],\n",
      "         [4., 4., 4.]],\n",
      "\n",
      "        [[0., 0., 0.],\n",
      "         [1., 1., 1.],\n",
      "         [2., 2., 2.],\n",
      "         [3., 3., 3.]]]) torch.Size([2, 4, 3])\n"
     ]
    }
   ],
   "source": [
    "e = torch.stack([a,b], dim=0)\n",
    "print(e, e.size())"
   ]
  },
  {
   "cell_type": "code",
   "execution_count": 42,
   "metadata": {},
   "outputs": [
    {
     "name": "stdout",
     "output_type": "stream",
     "text": [
      "tensor([[[1., 1., 1.],\n",
      "         [2., 2., 2.],\n",
      "         [3., 3., 3.],\n",
      "         [4., 4., 4.]],\n",
      "\n",
      "        [[0., 0., 0.],\n",
      "         [1., 1., 1.],\n",
      "         [2., 2., 2.],\n",
      "         [3., 3., 3.]]]) torch.Size([2, 4, 3])\n",
      "tensor([[[[1., 1., 1.],\n",
      "          [2., 2., 2.],\n",
      "          [3., 3., 3.],\n",
      "          [4., 4., 4.]]],\n",
      "\n",
      "\n",
      "        [[[0., 0., 0.],\n",
      "          [1., 1., 1.],\n",
      "          [2., 2., 2.],\n",
      "          [3., 3., 3.]]]]) torch.Size([2, 1, 4, 3])\n",
      "tensor([[[[ 0.,  0.,  0.],\n",
      "          [ 0.,  0.,  0.],\n",
      "          [ 0.,  0.,  0.],\n",
      "          [ 0.,  0.,  0.]],\n",
      "\n",
      "         [[ 1.,  1.,  1.],\n",
      "          [ 1.,  1.,  1.],\n",
      "          [ 1.,  1.,  1.],\n",
      "          [ 1.,  1.,  1.]]],\n",
      "\n",
      "\n",
      "        [[[-1., -1., -1.],\n",
      "          [-1., -1., -1.],\n",
      "          [-1., -1., -1.],\n",
      "          [-1., -1., -1.]],\n",
      "\n",
      "         [[ 0.,  0.,  0.],\n",
      "          [ 0.,  0.,  0.],\n",
      "          [ 0.,  0.,  0.],\n",
      "          [ 0.,  0.,  0.]]]]) torch.Size([2, 2, 4, 3])\n"
     ]
    }
   ],
   "source": [
    "print(e, e.size())\n",
    "print(e[:, None], e[:, None].size())\n",
    "print(e[:, None]-e, (e[:, None]-e).size())"
   ]
  },
  {
   "cell_type": "code",
   "execution_count": 44,
   "metadata": {},
   "outputs": [
    {
     "name": "stdout",
     "output_type": "stream",
     "text": [
      "tensor([[0.0000, 3.4641],\n",
      "        [3.4641, 0.0000]])\n",
      "tensor(6.9282)\n"
     ]
    }
   ],
   "source": [
    "e_result = torch.norm(e[:, None]-e, dim=(2,3))\n",
    "print(e_result)\n",
    "print(torch.sum(e_result))"
   ]
  },
  {
   "cell_type": "code",
   "execution_count": 10,
   "metadata": {},
   "outputs": [
    {
     "name": "stdout",
     "output_type": "stream",
     "text": [
      "tensor([0.7498, 0.8095, 0.6723, 0.7241])\n",
      "tensor([0.7128, 0.8242, 0.4395, 0.5103])\n",
      "tensor(1.8667)\n",
      "tensor([[[0.9891, 0.7916, 0.8814, 0.9266],\n",
      "         [0.9929, 0.8391, 0.9477, 0.9672],\n",
      "         [0.9496, 0.8521, 0.9969, 0.8891],\n",
      "         [0.8097, 0.9822, 0.9546, 0.7764]],\n",
      "\n",
      "        [[0.8308, 0.9497, 0.9886, 0.9036],\n",
      "         [0.8486, 0.8569, 0.8654, 0.7763],\n",
      "         [0.7887, 0.8748, 0.8509, 0.4812],\n",
      "         [0.9962, 0.9818, 0.8456, 0.9597]]])\n",
      "torch.Size([2, 4, 4])\n"
     ]
    }
   ],
   "source": [
    "import torch.nn.functional as F\n",
    "\n",
    "x1 = torch.rand(2, 3, 4, 4) # 随机生成一个 tensor \n",
    "x2 = torch.rand(2, 3, 4, 4) # 随机生成一个 tensor \n",
    "y1 = F.normalize(x1, dim=1) # 对每个 channel 进行归一化\n",
    "y2 = F.normalize(x2, dim=1) # 对每个 channel 进行归一化\n",
    "\n",
    "# print(x.shape) # 输出 (2, 3, 4, 4) \n",
    "# print(y.shape) # 输出 (2, 3, 4, 4)\n",
    "print(y1[0][:][0][0])\n",
    "print(y2[0][:][0][0])\n",
    "print(torch.dot(y1[0][:][0][0], y2[0][:][0][0]))\n",
    "c = torch.einsum('bchw,bchw->bhw', y1, y2)\n",
    "print(c)\n",
    "print(c.shape)\n"
   ]
  }
 ],
 "metadata": {
  "kernelspec": {
   "display_name": "Python 3",
   "language": "python",
   "name": "python3"
  },
  "language_info": {
   "codemirror_mode": {
    "name": "ipython",
    "version": 3
   },
   "file_extension": ".py",
   "mimetype": "text/x-python",
   "name": "python",
   "nbconvert_exporter": "python",
   "pygments_lexer": "ipython3",
   "version": "3.7.3"
  }
 },
 "nbformat": 4,
 "nbformat_minor": 2
}
